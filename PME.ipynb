{
 "cells": [
  {
   "cell_type": "code",
   "execution_count": 1,
   "metadata": {},
   "outputs": [
    {
     "data": {
      "text/plain": [
       "<contextlib.ExitStack at 0x79247155c6e0>"
      ]
     },
     "execution_count": 1,
     "metadata": {},
     "output_type": "execute_result"
    }
   ],
   "source": [
    "from PME import PME1D, PME2D\n",
    "import numpy as np\n",
    "import matplotlib.pyplot as plt\n",
    "plt.ion()"
   ]
  },
  {
   "cell_type": "code",
   "execution_count": 2,
   "metadata": {},
   "outputs": [],
   "source": [
    "def plotErr(self, axs, label, color):\n",
    "    for ax in axs:\n",
    "        ax.set_xlabel(\"Iteration count\")\n",
    "    axs[0].set_ylabel(\"PDHG Error\")\n",
    "    axs[1].set_ylabel(\"Rho Errors\")\n",
    "    axs[0].semilogy(self.iterList, self.pdhgErr, \"-\", label = label, color = color)\n",
    "    axs[1].semilogy(self.iterList, self.stErr, \"-\", label = label, color = color)\n",
    "    axs[1].semilogy(self.iterList, self.terminalErr, \"--\", label = label, color = color)\n",
    "    axs[1].text(\n",
    "        0.95, 0.95, \n",
    "        \" — spacetime error\\n --- terminal error\", \n",
    "        transform=axs[1].transAxes, \n",
    "        fontsize=10,\n",
    "        color=\"red\",\n",
    "        horizontalalignment='right',\n",
    "        verticalalignment='top',\n",
    "        multialignment='left',\n",
    "        bbox=dict(boxstyle=\"round,pad=0.3\", edgecolor=\"gray\", facecolor=\"white\", alpha=0.5)\n",
    "    )"
   ]
  },
  {
   "cell_type": "markdown",
   "metadata": {},
   "source": [
    "# One dimension"
   ]
  },
  {
   "cell_type": "markdown",
   "metadata": {},
   "source": [
    "## Sample solution"
   ]
  },
  {
   "cell_type": "code",
   "execution_count": 3,
   "metadata": {},
   "outputs": [
    {
     "name": "stdout",
     "output_type": "stream",
     "text": [
      "Iteration: 1000 PDHG error: 5.30990746e-08 spacetime error: 4.31994328e-06 terminal error 4.78271499e-06\n",
      "\n"
     ]
    },
    {
     "data": {
      "application/vnd.jupyter.widget-view+json": {
       "model_id": "a8a27fd15746484783e0de94080261a6",
       "version_major": 2,
       "version_minor": 0
      },
      "text/plain": [
       "WebGuiWidget(layout=Layout(height='500px', width='100%'), value={'gui_settings': {}, 'ngsolve_version': '6.2.2…"
      ]
     },
     "metadata": {},
     "output_type": "display_data"
    }
   ],
   "source": [
    "P = PME1D(beta=0.01, nx=32, ny =32, order=2)\n",
    "P.solve()\n",
    "P.draw(P.rhoh)"
   ]
  },
  {
   "cell_type": "code",
   "execution_count": null,
   "metadata": {},
   "outputs": [],
   "source": [
    "P = PME1D(beta=0.01, nx=32, ny =32, order=2)\n",
    "P.solve()\n",
    "P.draw(P.rhoh)"
   ]
  },
  {
   "cell_type": "markdown",
   "metadata": {},
   "source": [
    "## Convergence study"
   ]
  },
  {
   "cell_type": "code",
   "execution_count": null,
   "metadata": {},
   "outputs": [],
   "source": [
    "nx, ny = 8, 8\n",
    "beta = 0.01\n",
    "\n",
    "labels = [r'$8\\times 8$', r'$16\\times 16$', r'$32\\times 32$', r'$64\\times64$']\n",
    "colors = ['r','g','b','m']"
   ]
  },
  {
   "cell_type": "markdown",
   "metadata": {},
   "source": [
    "### $\\alpha = 1.5$"
   ]
  },
  {
   "cell_type": "code",
   "execution_count": null,
   "metadata": {},
   "outputs": [],
   "source": [
    "alpha = 1.5"
   ]
  },
  {
   "cell_type": "markdown",
   "metadata": {},
   "source": [
    "$p=1$"
   ]
  },
  {
   "cell_type": "code",
   "execution_count": null,
   "metadata": {},
   "outputs": [],
   "source": [
    "fig, axs = plt.subplots(1, 2, figsize = (10, 5))\n",
    "\n",
    "nIter = 1000\n",
    "order = 1\n",
    "for i in range(4):\n",
    "    P1 = PME1D(order = order, maxIter = nIter + 1, alpha = alpha, beta = beta, nx = nx * 2 ** i, ny = ny * 2 ** i)\n",
    "    P1.solve()\n",
    "    plotErr(P1, axs, labels[i], colors[i])\n",
    "    if i > 0:\n",
    "        print('Order (ST) = ', np.log2(err0/P1.stErr[-1]))\n",
    "        print('Order (Terminal) = ', np.log2(err1/P1.terminalErr[-1]))\n",
    "        print(\"\\n\")\n",
    "    err0 = P1.stErr[-1]\n",
    "    err1 = P1.terminalErr[-1]\n",
    "    \n",
    "axs[0].legend()\n",
    "plt.show()\n"
   ]
  },
  {
   "cell_type": "markdown",
   "metadata": {},
   "source": [
    "$p=2$"
   ]
  },
  {
   "cell_type": "code",
   "execution_count": null,
   "metadata": {},
   "outputs": [],
   "source": [
    "fig, axs = plt.subplots(1, 2, figsize = (10, 5))\n",
    "\n",
    "nIter = 1500\n",
    "order = 2\n",
    "for i in range(4):\n",
    "    P2 = PME1D(order = order, maxIter = nIter + 1, alpha = alpha, beta = beta, nx = nx * 2 ** i, ny = ny * 2 ** i)\n",
    "    P2.solve()\n",
    "    plotErr(P2, axs, labels[i], colors[i])\n",
    "    if i > 0:\n",
    "        print('Order (ST) = ', np.log2(err0/P2.stErr[-1]))\n",
    "        print('Order (Terminal) = ', np.log2(err1/P2.terminalErr[-1]))\n",
    "        print(\"\\n\")\n",
    "    err0 = P2.stErr[-1]\n",
    "    err1 = P2.terminalErr[-1]\n",
    "    \n",
    "axs[0].legend()\n",
    "plt.show()\n"
   ]
  },
  {
   "cell_type": "markdown",
   "metadata": {},
   "source": [
    "$p=3$"
   ]
  },
  {
   "cell_type": "code",
   "execution_count": null,
   "metadata": {},
   "outputs": [],
   "source": [
    "fig, axs = plt.subplots(1, 2, figsize = (10, 5))\n",
    "\n",
    "nIter = 1800\n",
    "order = 3\n",
    "for i in range(4):\n",
    "    P3 = PME1D(order = order, maxIter = nIter + 1, alpha = alpha, beta = beta, nx = nx * 2 ** i, ny = ny * 2 ** i)\n",
    "    P3.solve()\n",
    "    plotErr(P3, axs, labels[i], colors[i])\n",
    "    if i > 0:\n",
    "        print('Order (ST) = ', np.log2(err0/P3.stErr[-1]))\n",
    "        print('Order (Terminal) = ', np.log2(err1/P3.terminalErr[-1]))\n",
    "        print(\"\\n\")\n",
    "    err0 = P3.stErr[-1]\n",
    "    err1 = P3.terminalErr[-1]\n",
    "    \n",
    "axs[0].legend()\n",
    "plt.show()\n"
   ]
  },
  {
   "cell_type": "markdown",
   "metadata": {},
   "source": [
    "### $\\alpha = 2$"
   ]
  },
  {
   "cell_type": "code",
   "execution_count": null,
   "metadata": {},
   "outputs": [],
   "source": [
    "alpha = 2"
   ]
  },
  {
   "cell_type": "markdown",
   "metadata": {},
   "source": [
    "$p=1$"
   ]
  },
  {
   "cell_type": "code",
   "execution_count": null,
   "metadata": {},
   "outputs": [],
   "source": [
    "fig, axs = plt.subplots(1, 2, figsize = (10, 5))\n",
    "\n",
    "nIter = 1000\n",
    "order = 1\n",
    "for i in range(4):\n",
    "    PP1 = PME1D(order = order, maxIter = nIter + 1, alpha = alpha, beta = beta, nx = nx * 2 ** i, ny = ny * 2 ** i)\n",
    "    PP1.solve()\n",
    "    plotErr(PP1, axs, labels[i], colors[i])\n",
    "    if i > 0:\n",
    "        print('Order (ST) = ', np.log2(err0/PP1.stErr[-1]))\n",
    "        print('Order (Terminal) = ', np.log2(err1/PP1.terminalErr[-1]))\n",
    "        print(\"\\n\")\n",
    "    err0 = PP1.stErr[-1]\n",
    "    err1 = PP1.terminalErr[-1]\n",
    "    \n",
    "axs[0].legend()\n",
    "plt.show()\n"
   ]
  },
  {
   "cell_type": "markdown",
   "metadata": {},
   "source": [
    "$p=2$"
   ]
  },
  {
   "cell_type": "code",
   "execution_count": null,
   "metadata": {},
   "outputs": [],
   "source": [
    "fig, axs = plt.subplots(1, 2, figsize = (10, 5))\n",
    "\n",
    "nIter = 1500\n",
    "order = 2\n",
    "for i in range(4):\n",
    "    PP2 = PME1D(order = order, maxIter = nIter + 1, alpha = alpha, beta = beta, nx = nx * 2 ** i, ny = ny * 2 ** i)\n",
    "    PP2.solve()\n",
    "    plotErr(PP2, axs, labels[i], colors[i])\n",
    "    if i > 0:\n",
    "        print('Order (ST) = ', np.log2(err0/PP2.stErr[-1]))\n",
    "        print('Order (Terminal) = ', np.log2(err1/PP2.terminalErr[-1]))\n",
    "        print(\"\\n\")\n",
    "    err0 = PP2.stErr[-1]\n",
    "    err1 = PP2.terminalErr[-1]\n",
    "    \n",
    "axs[0].legend()\n",
    "plt.show()\n"
   ]
  },
  {
   "cell_type": "markdown",
   "metadata": {},
   "source": [
    "$p=3$"
   ]
  },
  {
   "cell_type": "code",
   "execution_count": null,
   "metadata": {},
   "outputs": [],
   "source": [
    "fig, axs = plt.subplots(1, 2, figsize = (10, 5))\n",
    "\n",
    "nIter = 1800\n",
    "order = 3\n",
    "for i in range(4):\n",
    "    PP3 = PME1D(order = order, maxIter = nIter + 1, alpha = alpha, beta = beta, nx = nx * 2 ** i, ny = ny * 2 ** i)\n",
    "    PP3.solve()\n",
    "    plotErr(PP3, axs, labels[i], colors[i])\n",
    "    if i > 0:\n",
    "        print('Order (ST) = ', np.log2(err0/PP3.stErr[-1]))\n",
    "        print('Order (Terminal) = ', np.log2(err1/PP3.terminalErr[-1]))\n",
    "        print(\"\\n\")\n",
    "    err0 = PP3.stErr[-1]\n",
    "    err1 = PP3.terminalErr[-1]\n",
    "    \n",
    "axs[0].legend()\n",
    "plt.show()\n"
   ]
  },
  {
   "cell_type": "markdown",
   "metadata": {},
   "source": [
    "# Two dimensions"
   ]
  },
  {
   "cell_type": "markdown",
   "metadata": {},
   "source": [
    "## Sample solution"
   ]
  },
  {
   "cell_type": "code",
   "execution_count": null,
   "metadata": {},
   "outputs": [],
   "source": [
    "P = PME2D(beta = 0.005, nx = 8, ny = 8, nz = 8, order=1)\n",
    "P.solve()\n"
   ]
  },
  {
   "cell_type": "markdown",
   "metadata": {},
   "source": [
    "## Convergence study"
   ]
  },
  {
   "cell_type": "code",
   "execution_count": null,
   "metadata": {},
   "outputs": [],
   "source": [
    "nx, ny, nz = 4, 4, 4\n",
    "beta = 0.005\n",
    "\n",
    "colors = ['darkorange','r','g']\n",
    "labels = [r'$4\\times 4 \\times 4$',r'$8\\times 8 \\times 8$', r'$16\\times 16 \\times 16$']"
   ]
  },
  {
   "cell_type": "markdown",
   "metadata": {},
   "source": [
    "### $\\alpha = 1.5$"
   ]
  },
  {
   "cell_type": "code",
   "execution_count": null,
   "metadata": {},
   "outputs": [],
   "source": [
    "alpha = 1.5"
   ]
  },
  {
   "cell_type": "markdown",
   "metadata": {},
   "source": [
    "$p=1$"
   ]
  },
  {
   "cell_type": "code",
   "execution_count": null,
   "metadata": {},
   "outputs": [],
   "source": [
    "fig, axs = plt.subplots(1, 2, figsize = (10, 5))\n",
    "\n",
    "nIter = 1500\n",
    "order = 1\n",
    "for i in range(3):\n",
    "    P21 = PME2D(order = order, maxIter = nIter + 1, alpha = alpha, beta = beta, nx = nx * 2 ** i, ny = ny * 2 ** i, nz = nz * 2 ** i)\n",
    "    P21.solve()\n",
    "    plotErr(P21, axs, labels[i], colors[i])\n",
    "    if i > 0:\n",
    "        print('Order (ST) = ', np.log2(err0/P21.stErr[-1]))\n",
    "        print('Order (Terminal) = ', np.log2(err1/P21.terminalErr[-1]))\n",
    "        print(\"\\n\")\n",
    "    err0 = P21.stErr[-1]\n",
    "    err1 = P21.terminalErr[-1]\n",
    "    \n",
    "axs[0].legend()\n",
    "plt.show()\n"
   ]
  },
  {
   "cell_type": "markdown",
   "metadata": {},
   "source": [
    "$p=2$"
   ]
  },
  {
   "cell_type": "code",
   "execution_count": null,
   "metadata": {},
   "outputs": [],
   "source": [
    "fig, axs = plt.subplots(1, 2, figsize = (10, 5))\n",
    "\n",
    "nIter = 2000\n",
    "order = 2\n",
    "for i in range(3):\n",
    "    P22 = PME2D(order = order, maxIter = nIter + 1, alpha = alpha, beta = beta, nx = nx * 2 ** i, ny = ny * 2 ** i, nz = nz * 2 ** i)\n",
    "    P22.solve()\n",
    "    plotErr(P22, axs, labels[i], colors[i])\n",
    "    if i > 0:\n",
    "        print('Order (ST) = ', np.log2(err0/P22.stErr[-1]))\n",
    "        print('Order (Terminal) = ', np.log2(err1/P22.terminalErr[-1]))\n",
    "        print(\"\\n\")\n",
    "    err0 = P22.stErr[-1]\n",
    "    err1 = P22.terminalErr[-1]\n",
    "    \n",
    "axs[0].legend()\n",
    "plt.show()\n"
   ]
  },
  {
   "cell_type": "markdown",
   "metadata": {},
   "source": [
    "$p=3$"
   ]
  },
  {
   "cell_type": "code",
   "execution_count": null,
   "metadata": {},
   "outputs": [],
   "source": [
    "fig, axs = plt.subplots(1, 2, figsize = (10, 5))\n",
    "\n",
    "nIter = 2000\n",
    "order = 3\n",
    "for i in range(3):\n",
    "    P23 = PME2D(order = order, maxIter = nIter + 1, alpha = alpha, beta = beta, nx = nx * 2 ** i, ny = ny * 2 ** i, nz = nz * 2 ** i)\n",
    "    P23.solve()\n",
    "    plotErr(P23, axs, labels[i], colors[i])\n",
    "    if i > 0:\n",
    "        print('Order (ST) = ', np.log2(err0/P23.stErr[-1]))\n",
    "        print('Order (Terminal) = ', np.log2(err1/P23.terminalErr[-1]))\n",
    "        print(\"\\n\")\n",
    "    err0 = P23.stErr[-1]\n",
    "    err1 = P23.terminalErr[-1]\n",
    "    \n",
    "axs[0].legend()\n",
    "plt.show()\n"
   ]
  },
  {
   "cell_type": "markdown",
   "metadata": {},
   "source": [
    "### $\\alpha = 2$"
   ]
  },
  {
   "cell_type": "code",
   "execution_count": null,
   "metadata": {},
   "outputs": [],
   "source": [
    "alpha = 2"
   ]
  },
  {
   "cell_type": "markdown",
   "metadata": {},
   "source": [
    "$p=1$"
   ]
  },
  {
   "cell_type": "code",
   "execution_count": null,
   "metadata": {},
   "outputs": [],
   "source": [
    "fig, axs = plt.subplots(1, 2, figsize = (10, 5))\n",
    "\n",
    "nIter = 1800\n",
    "order = 1\n",
    "for i in range(3):\n",
    "    PP21 = PME2D(order = order, maxIter = nIter + 1, alpha = alpha, beta = beta, nx = nx * 2 ** i, ny = ny * 2 ** i, nz = nz * 2 ** i)\n",
    "    PP21.solve()\n",
    "    plotErr(PP21, axs, labels[i], colors[i])\n",
    "    if i > 0:\n",
    "        print('Order (ST) = ', np.log2(err0/PP21.stErr[-1]))\n",
    "        print('Order (Terminal) = ', np.log2(err1/PP21.terminalErr[-1]))\n",
    "        print(\"\\n\")\n",
    "    err0 = PP21.stErr[-1]\n",
    "    err1 = PP21.terminalErr[-1]\n",
    "    \n",
    "axs[0].legend()\n",
    "plt.show()\n"
   ]
  },
  {
   "cell_type": "markdown",
   "metadata": {},
   "source": [
    "$p=2$"
   ]
  },
  {
   "cell_type": "code",
   "execution_count": null,
   "metadata": {},
   "outputs": [],
   "source": [
    "fig, axs = plt.subplots(1, 2, figsize = (10, 5))\n",
    "\n",
    "nIter = 2500\n",
    "order = 2\n",
    "for i in range(3):\n",
    "    PP22 = PME2D(order = order, maxIter = nIter + 1, alpha = alpha, beta = beta, nx = nx * 2 ** i, ny = ny * 2 ** i, nz = nz * 2 ** i)\n",
    "    PP22.solve()\n",
    "    plotErr(PP22, axs, labels[i], colors[i])\n",
    "    if i > 0:\n",
    "        print('Order (ST) = ', np.log2(err0/PP22.stErr[-1]))\n",
    "        print('Order (Terminal) = ', np.log2(err1/PP22.terminalErr[-1]))\n",
    "        print(\"\\n\")\n",
    "    err0 = PP22.stErr[-1]\n",
    "    err1 = PP22.terminalErr[-1]\n",
    "    \n",
    "axs[0].legend()\n",
    "plt.show()\n"
   ]
  },
  {
   "cell_type": "markdown",
   "metadata": {},
   "source": [
    "$p=3$"
   ]
  },
  {
   "cell_type": "code",
   "execution_count": null,
   "metadata": {},
   "outputs": [],
   "source": [
    "fig, axs = plt.subplots(1, 2, figsize = (10, 5))\n",
    "\n",
    "nIter = 3200\n",
    "order = 3\n",
    "for i in range(3):\n",
    "    PP23 = PME2D(order = order, maxIter = nIter + 1, alpha = alpha, beta = beta, nx = nx * 2 ** i, ny = ny * 2 ** i, nz = nz * 2 ** i)\n",
    "    PP23.solve()\n",
    "    plotErr(PP23, axs, labels[i], colors[i])\n",
    "    if i > 0:\n",
    "        print('Order (ST) = ', np.log2(err0/PP23.stErr[-1]))\n",
    "        print('Order (Terminal) = ', np.log2(err1/PP23.terminalErr[-1]))\n",
    "        print(\"\\n\")\n",
    "    err0 = PP23.stErr[-1]\n",
    "    err1 = PP23.terminalErr[-1]\n",
    "    \n",
    "axs[0].legend()\n",
    "plt.show()\n"
   ]
  }
 ],
 "metadata": {
  "kernelspec": {
   "display_name": "ngsolve",
   "language": "python",
   "name": "python3"
  },
  "language_info": {
   "codemirror_mode": {
    "name": "ipython",
    "version": 3
   },
   "file_extension": ".py",
   "mimetype": "text/x-python",
   "name": "python",
   "nbconvert_exporter": "python",
   "pygments_lexer": "ipython3",
   "version": "3.12.4"
  }
 },
 "nbformat": 4,
 "nbformat_minor": 2
}
